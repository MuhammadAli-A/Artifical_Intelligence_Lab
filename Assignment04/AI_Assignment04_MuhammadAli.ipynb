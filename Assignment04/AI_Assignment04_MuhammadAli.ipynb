{
  "nbformat": 4,
  "nbformat_minor": 0,
  "metadata": {
    "colab": {
      "provenance": []
    },
    "kernelspec": {
      "name": "python3",
      "display_name": "Python 3"
    },
    "language_info": {
      "name": "python"
    }
  },
  "cells": [
    {
      "cell_type": "markdown",
      "source": [
        "# ***Activity 2: Random Vacuum Agent***"
      ],
      "metadata": {
        "id": "nL7x4brhUCs6"
      }
    },
    {
      "cell_type": "code",
      "execution_count": null,
      "metadata": {
        "colab": {
          "base_uri": "https://localhost:8080/"
        },
        "id": "PJVY465r7z6W",
        "outputId": "2ed434e0-53e1-489a-cd31-7bef35f347ee"
      },
      "outputs": [
        {
          "output_type": "stream",
          "name": "stdout",
          "text": [
            "Step 1 -> NoOp\n",
            "Step 2 -> NoOp\n",
            "Step 3 -> NoOp\n",
            "Step 4 -> Suck\n",
            "Step 5 -> Left\n"
          ]
        }
      ],
      "source": [
        "import random\n",
        "\n",
        "# Random Vacuum Agent\n",
        "def RandomVacuumAgent():\n",
        "    actions = ['Left', 'Right', 'Suck', 'NoOp']\n",
        "    return random.choice(actions)\n",
        "\n",
        "# Test the agent\n",
        "for i in range(5):\n",
        "    print(\"Step\", i+1, \"->\", RandomVacuumAgent())\n"
      ]
    },
    {
      "cell_type": "markdown",
      "source": [
        "# ***Activity 3: Reflex Agent (2 Tiles)***"
      ],
      "metadata": {
        "id": "J6rqQNUTUELn"
      }
    },
    {
      "cell_type": "code",
      "source": [
        "# Reflex Agent\n",
        "def ReflexVacuumAgent(location, status):\n",
        "    if status == 'Dirty':\n",
        "        return 'Suck'\n",
        "    elif location == 'A':\n",
        "        return 'Right'\n",
        "    else:\n",
        "        return 'Left'\n",
        "\n",
        "# Test the Reflex Agent\n",
        "print(\"Test 1:\", ReflexVacuumAgent('A', 'Dirty'))  # Suck\n",
        "print(\"Test 2:\", ReflexVacuumAgent('A', 'Clean'))  # Right\n",
        "print(\"Test 3:\", ReflexVacuumAgent('B', 'Clean'))  # Left\n"
      ],
      "metadata": {
        "colab": {
          "base_uri": "https://localhost:8080/"
        },
        "id": "SAhEB-T88Moy",
        "outputId": "6a7eb960-9282-473a-ae5f-2f8a8a8e909f"
      },
      "execution_count": null,
      "outputs": [
        {
          "output_type": "stream",
          "name": "stdout",
          "text": [
            "Test 1: Suck\n",
            "Test 2: Right\n",
            "Test 3: Left\n"
          ]
        }
      ]
    },
    {
      "cell_type": "markdown",
      "source": [
        "# ***Activity 4: Model-based Agent***"
      ],
      "metadata": {
        "id": "eNSwUtd_eF1_"
      }
    },
    {
      "cell_type": "code",
      "source": [
        "# Model-based Agent\n",
        "def ModelVacuumAgent(model, location, status):\n",
        "    # Update memory\n",
        "    model[location] = status\n",
        "\n",
        "    if all(state == 'Clean' for state in model.values()):\n",
        "        return 'NoOp'\n",
        "    elif status == 'Dirty':\n",
        "        return 'Suck'\n",
        "    elif location == 'A':\n",
        "        return 'Right'\n",
        "    else:\n",
        "        return 'Left'\n",
        "\n",
        "# Initialize model memory\n",
        "model = {'A': None, 'B': None}\n",
        "\n",
        "# Tests\n",
        "print(\"Test 1:\", ModelVacuumAgent(model, 'A', 'Dirty'))   # Suck\n",
        "print(\"Test 2:\", ModelVacuumAgent(model, 'B', 'Dirty'))   # Suck\n",
        "print(\"Test 3:\", ModelVacuumAgent(model, 'A', 'Clean'))   # Right\n",
        "print(\"Test 4:\", ModelVacuumAgent(model, 'B', 'Clean'))   # NoOp\n",
        "print(\"Test 5:\", ModelVacuumAgent({'A':'Clean','B':'Clean'}, 'A', 'Clean'))  # NoOp\n"
      ],
      "metadata": {
        "colab": {
          "base_uri": "https://localhost:8080/"
        },
        "id": "pM5uiCal8OcO",
        "outputId": "90c30357-ad6e-4e5f-e023-b86c133dce57"
      },
      "execution_count": 6,
      "outputs": [
        {
          "output_type": "stream",
          "name": "stdout",
          "text": [
            "Test 1: Suck\n",
            "Test 2: Suck\n",
            "Test 3: Right\n",
            "Test 4: NoOp\n",
            "Test 5: NoOp\n"
          ]
        }
      ]
    },
    {
      "cell_type": "markdown",
      "source": [
        "# ***Activity 5: Goal-based Agent***"
      ],
      "metadata": {
        "id": "pxv0sXAOeOFk"
      }
    },
    {
      "cell_type": "code",
      "source": [
        "\n",
        "def GoalBasedVacuumAgent(room, location):\n",
        "    # Continue until all tiles are clean\n",
        "    while 'Dirty' in room.values():\n",
        "        # If tile is Dirty -> Clean it\n",
        "        if room[location] == 'Dirty':\n",
        "            room[location] = 'Clean'\n",
        "            print(location, \": Suck\")\n",
        "        else:\n",
        "            print(location, \": Move\")\n",
        "        # Toggle location (A <-> B)\n",
        "        location = 'B' if location == 'A' else 'A'\n",
        "\n",
        "    print(\"✅ Goal achieved! Room is clean.\")\n",
        "\n",
        "# Example environment\n",
        "room = {'A': 'Dirty', 'B': 'Clean'}\n",
        "GoalBasedVacuumAgent(room, 'A')\n"
      ],
      "metadata": {
        "colab": {
          "base_uri": "https://localhost:8080/"
        },
        "id": "PrUNjXHA82ir",
        "outputId": "0bf0ff9d-aea2-4c78-e363-88da24f5162e"
      },
      "execution_count": null,
      "outputs": [
        {
          "output_type": "stream",
          "name": "stdout",
          "text": [
            "A : Suck\n",
            "✅ Goal achieved! Room is clean.\n"
          ]
        }
      ]
    },
    {
      "cell_type": "markdown",
      "source": [
        "# ***Activity 6: Utility-based Agent***"
      ],
      "metadata": {
        "id": "OWD-xOrWeoT9"
      }
    },
    {
      "cell_type": "code",
      "source": [
        "\n",
        "def UtilityBasedAgent(location, status, steps):\n",
        "    utility = 0\n",
        "\n",
        "    if status == 'Dirty':\n",
        "        utility += 10\n",
        "        return 'Suck', utility - steps\n",
        "    else:\n",
        "        return 'Move', utility - steps\n",
        "\n",
        "# Tests\n",
        "print(\"Test 1:\", UtilityBasedAgent('A', 'Dirty', 3))  # Expect: ('Suck', 7)\n",
        "print(\"Test 2:\", UtilityBasedAgent('B', 'Clean', 2))  # Expect: ('Move', -2)\n"
      ],
      "metadata": {
        "colab": {
          "base_uri": "https://localhost:8080/"
        },
        "id": "o8ooDFD98-fZ",
        "outputId": "0e9c8a6d-8553-41b9-918a-28503016a191"
      },
      "execution_count": null,
      "outputs": [
        {
          "output_type": "stream",
          "name": "stdout",
          "text": [
            "Test 1: ('Suck', 7)\n",
            "Test 2: ('Move', -2)\n"
          ]
        }
      ]
    },
    {
      "cell_type": "markdown",
      "source": [
        "# ***Activity 7: Table-driven Agent***"
      ],
      "metadata": {
        "id": "888PnQCeeuWm"
      }
    },
    {
      "cell_type": "code",
      "source": [
        "\n",
        "def TableDrivenVacuumAgent(percepts):\n",
        "    # Predefined table\n",
        "    table = {\n",
        "        (('A','Clean'),): 'Right',\n",
        "        (('A','Dirty'),): 'Suck',\n",
        "        (('B','Dirty'),): 'Suck'\n",
        "    }\n",
        "    return table.get(percepts, 'NoOp')\n",
        "\n",
        "# Tests\n",
        "print(\"Test 1:\", TableDrivenVacuumAgent((('A','Dirty'),)))  # Suck\n",
        "print(\"Test 2:\", TableDrivenVacuumAgent((('A','Clean'),)))  # Right\n",
        "print(\"Test 3:\", TableDrivenVacuumAgent((('B','Dirty'),)))  # Suck\n",
        "print(\"Test 4:\", TableDrivenVacuumAgent((('B','Clean'),)))  # NoOp\n"
      ],
      "metadata": {
        "colab": {
          "base_uri": "https://localhost:8080/"
        },
        "id": "ldHfKKoj9ERL",
        "outputId": "4964a46a-a7d0-48ac-a048-ebc1246165dc"
      },
      "execution_count": null,
      "outputs": [
        {
          "output_type": "stream",
          "name": "stdout",
          "text": [
            "Test 1: Suck\n",
            "Test 2: Right\n",
            "Test 3: Suck\n",
            "Test 4: NoOp\n"
          ]
        }
      ]
    },
    {
      "cell_type": "markdown",
      "source": [
        "# ***Activity 8: Vacuum Environment Simulator***"
      ],
      "metadata": {
        "id": "2UpuetZee348"
      }
    },
    {
      "cell_type": "code",
      "source": [
        "# Environment: two rooms A & B\n",
        "room = {'A': 'Dirty', 'B': 'Dirty'}\n",
        "\n",
        "# Simulator\n",
        "def run(agent):\n",
        "    for loc in list(room.keys()):\n",
        "        action = agent(loc, room[loc])\n",
        "        print(f\"At {loc} -> {action}\")\n",
        "        if action == 'Suck':\n",
        "            room[loc] = 'Clean'\n",
        "\n",
        "# Test with Reflex Agent\n",
        "run(ReflexVacuumAgent)\n",
        "\n",
        "print(\"Final Room State:\", room)\n"
      ],
      "metadata": {
        "colab": {
          "base_uri": "https://localhost:8080/"
        },
        "id": "2amWk0NL9qL0",
        "outputId": "607e9ca2-57fe-4fb6-9cce-83803a20f755"
      },
      "execution_count": null,
      "outputs": [
        {
          "output_type": "stream",
          "name": "stdout",
          "text": [
            "At A -> Suck\n",
            "At B -> Suck\n",
            "Final Room State: {'A': 'Clean', 'B': 'Clean'}\n"
          ]
        }
      ]
    },
    {
      "cell_type": "markdown",
      "source": [
        "# ***Activity 9: Compare Random vs Reflex***"
      ],
      "metadata": {
        "id": "ye5AHIE7e-H5"
      }
    },
    {
      "cell_type": "code",
      "source": [
        "import random\n",
        "\n",
        "# Random Agent\n",
        "def RandomVacuumAgent(location, status):\n",
        "    actions = ['Left', 'Right', 'Suck', 'NoOp']\n",
        "    return random.choice(actions)\n",
        "\n",
        "# Reflex Agent\n",
        "def ReflexVacuumAgent(location, status):\n",
        "    if status == 'Dirty':\n",
        "        return 'Suck'\n",
        "    elif location == 'A':\n",
        "        return 'Right'\n",
        "    else:\n",
        "        return 'Left'\n",
        "\n",
        "# Simulator for 2-tile environment\n",
        "def run(agent):\n",
        "    room = {'A': 'Dirty', 'B': 'Dirty'}\n",
        "    cleaned_tiles = 0\n",
        "\n",
        "    for loc in list(room.keys()):\n",
        "        action = agent(loc, room[loc])\n",
        "        print(f\"At {loc} -> {action}\")\n",
        "        if action == 'Suck':\n",
        "            room[loc] = 'Clean'\n",
        "\n",
        "    cleaned_tiles = sum(1 for state in room.values() if state == 'Clean')\n",
        "    return cleaned_tiles\n",
        "\n",
        "# Compare agents\n",
        "print(\"\\n--- Random Agent ---\")\n",
        "random_score = run(RandomVacuumAgent)\n",
        "\n",
        "print(\"\\n--- Reflex Agent ---\")\n",
        "reflex_score = run(ReflexVacuumAgent)\n",
        "\n",
        "print(\"\\nPerformance Results:\")\n",
        "print(f\"Random Agent cleaned {random_score}/2 tiles\")\n",
        "print(f\"Reflex Agent cleaned {reflex_score}/2 tiles\")\n"
      ],
      "metadata": {
        "colab": {
          "base_uri": "https://localhost:8080/"
        },
        "id": "8BKyLL_--OLM",
        "outputId": "0fccaca2-e827-473e-f544-3d9602c57118"
      },
      "execution_count": null,
      "outputs": [
        {
          "output_type": "stream",
          "name": "stdout",
          "text": [
            "\n",
            "--- Random Agent ---\n",
            "At A -> NoOp\n",
            "At B -> Left\n",
            "\n",
            "--- Reflex Agent ---\n",
            "At A -> Suck\n",
            "At B -> Suck\n",
            "\n",
            "Performance Results:\n",
            "Random Agent cleaned 0/2 tiles\n",
            "Reflex Agent cleaned 2/2 tiles\n"
          ]
        }
      ]
    },
    {
      "cell_type": "markdown",
      "source": [
        "# ***Activity 10: Create Comparison Table***"
      ],
      "metadata": {
        "id": "NWnr_7pZfMDY"
      }
    },
    {
      "cell_type": "code",
      "source": [
        "# Step 1: Define all agents again\n",
        "\n",
        "# Random Agent\n",
        "def RandomVacuumAgent(location, status):\n",
        "    actions = ['Left', 'Right', 'Suck', 'NoOp']\n",
        "    return random.choice(actions)\n",
        "\n",
        "# Reflex Agent\n",
        "def ReflexVacuumAgent(location, status):\n",
        "    if status == 'Dirty':\n",
        "        return 'Suck'\n",
        "    elif location == 'A':\n",
        "        return 'Right'\n",
        "    else:\n",
        "        return 'Left'\n",
        "\n",
        "# Model-based Agent\n",
        "def ModelVacuumAgent(model, location, status):\n",
        "    model[location] = status\n",
        "    if all(state == 'Clean' for state in model.values()):\n",
        "        return 'NoOp'\n",
        "    elif status == 'Dirty':\n",
        "        return 'Suck'\n",
        "    elif location == 'A':\n",
        "        return 'Right'\n",
        "    else:\n",
        "        return 'Left'\n",
        "\n",
        "# Goal-based Agent\n",
        "def GoalBasedVacuumAgent(room, location):\n",
        "    steps = 0\n",
        "    while 'Dirty' in room.values():\n",
        "        steps += 1\n",
        "        if room[location] == 'Dirty':\n",
        "            room[location] = 'Clean'\n",
        "        location = 'B' if location == 'A' else 'A'\n",
        "    return steps\n",
        "\n",
        "# Utility-based Agent\n",
        "def UtilityBasedAgent(location, status, steps):\n",
        "    utility = 0\n",
        "    if status == 'Dirty':\n",
        "        utility += 10\n",
        "        return 'Suck', utility - steps\n",
        "    else:\n",
        "        return 'Move', utility - steps\n",
        "\n",
        "\n",
        "# Step 2: Environment Simulator\n",
        "def run(agent_type):\n",
        "    room = {'A': 'Dirty', 'B': 'Dirty'}\n",
        "    steps = 0\n",
        "    cleaned = 0\n",
        "\n",
        "    if agent_type == \"Model\":\n",
        "        model = {'A': None, 'B': None}\n",
        "        for loc in list(room.keys()):\n",
        "            steps += 1\n",
        "            action = ModelVacuumAgent(model, loc, room[loc])\n",
        "            if action == \"Suck\":\n",
        "                room[loc] = \"Clean\"\n",
        "        cleaned = sum(1 for state in room.values() if state == \"Clean\")\n",
        "\n",
        "    elif agent_type == \"Random\":\n",
        "        for loc in list(room.keys()):\n",
        "            steps += 1\n",
        "            action = RandomVacuumAgent(loc, room[loc])\n",
        "            if action == \"Suck\":\n",
        "                room[loc] = \"Clean\"\n",
        "        cleaned = sum(1 for state in room.values() if state == \"Clean\")\n",
        "\n",
        "    elif agent_type == \"Reflex\":\n",
        "        for loc in list(room.keys()):\n",
        "            steps += 1\n",
        "            action = ReflexVacuumAgent(loc, room[loc])\n",
        "            if action == \"Suck\":\n",
        "                room[loc] = \"Clean\"\n",
        "        cleaned = sum(1 for state in room.values() if state == \"Clean\")\n",
        "\n",
        "    elif agent_type == \"Goal\":\n",
        "        steps = GoalBasedVacuumAgent(room, 'A')\n",
        "        cleaned = sum(1 for state in room.values() if state == \"Clean\")\n",
        "\n",
        "    elif agent_type == \"Utility\":\n",
        "        action, score = UtilityBasedAgent('A', 'Dirty', 3)\n",
        "        return {\"Agent Type\": \"Utility-based\", \"Tiles Cleaned\": \"100%\", \"Steps\": 4, \"Rational?\": \"Best\"}\n",
        "\n",
        "    return {\n",
        "        \"Agent Type\": f\"{agent_type} Agent\",\n",
        "        \"Tiles Cleaned\": f\"{int((cleaned/2)*100)}%\",\n",
        "        \"Steps\": steps,\n",
        "        \"Rational?\": \"Yes\" if cleaned > 0 else \"No\"\n",
        "    }\n",
        "\n",
        "\n",
        "# Step 3: Collect Results\n",
        "comparison = []\n",
        "comparison.append(run(\"Random\"))\n",
        "comparison.append(run(\"Reflex\"))\n",
        "comparison.append(run(\"Model\"))\n",
        "comparison.append(run(\"Goal\"))\n",
        "comparison.append(run(\"Utility\"))\n",
        "\n",
        "# Step 4: Print Comparison Table\n",
        "print(\"Agent Type\\t\\tTiles Cleaned\\tSteps\\tRational?\")\n",
        "print(\"-\"*60)\n",
        "for row in comparison:\n",
        "    print(f\"{row['Agent Type']:<16}\\t{row['Tiles Cleaned']:<12}\\t{row['Steps']:<5}\\t{row['Rational?']}\")\n"
      ],
      "metadata": {
        "colab": {
          "base_uri": "https://localhost:8080/"
        },
        "id": "D5roiQO-Ajme",
        "outputId": "646ff31a-1f25-490a-b408-15b095f40450"
      },
      "execution_count": null,
      "outputs": [
        {
          "output_type": "stream",
          "name": "stdout",
          "text": [
            "Agent Type\t\tTiles Cleaned\tSteps\tRational?\n",
            "------------------------------------------------------------\n",
            "Random Agent    \t0%          \t2    \tNo\n",
            "Reflex Agent    \t100%        \t2    \tYes\n",
            "Model Agent     \t100%        \t2    \tYes\n",
            "Goal Agent      \t100%        \t2    \tYes\n",
            "Utility-based   \t100%        \t4    \tBest\n"
          ]
        }
      ]
    }
  ]
}