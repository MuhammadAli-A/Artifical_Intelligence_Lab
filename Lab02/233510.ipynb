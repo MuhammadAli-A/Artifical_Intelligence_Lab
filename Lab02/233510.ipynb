{
  "nbformat": 4,
  "nbformat_minor": 0,
  "metadata": {
    "colab": {
      "provenance": []
    },
    "kernelspec": {
      "name": "python3",
      "display_name": "Python 3"
    },
    "language_info": {
      "name": "python"
    }
  },
  "cells": [
    {
      "cell_type": "markdown",
      "source": [
        "Activity 1: Create and Write to a Text File"
      ],
      "metadata": {
        "id": "it7py5K-fo9I"
      }
    },
    {
      "cell_type": "code",
      "execution_count": 2,
      "metadata": {
        "colab": {
          "base_uri": "https://localhost:8080/"
        },
        "id": "zslRUELWZobT",
        "outputId": "1927218c-003d-4c8c-9ad3-25f7a173cf96"
      },
      "outputs": [
        {
          "output_type": "stream",
          "name": "stdout",
          "text": [
            "File created and text written successfully.\n"
          ]
        }
      ],
      "source": [
        "# Solution\n",
        "file = open(\"notes.txt\", \"w\") # 'w' mode creates or overwrites\n",
        "file.write(\"Welcome to the File Handling Lab!\\n\")\n",
        "file.write(\"This is the first line of text.\")\n",
        "file.close()\n",
        "print(\"File created and text written successfully.\")"
      ]
    },
    {
      "cell_type": "markdown",
      "source": [
        "Activity 2: Read Content from a File"
      ],
      "metadata": {
        "id": "fXNL5bXufuwl"
      }
    },
    {
      "cell_type": "code",
      "source": [
        "# Solution\n",
        "file = open(\"notes.txt\", \"r\")\n",
        "content = file.read()\n",
        "file.close()\n",
        "print(\"File Content:\\n\", content)"
      ],
      "metadata": {
        "colab": {
          "base_uri": "https://localhost:8080/"
        },
        "id": "p7K5lZQmaGXo",
        "outputId": "ea01b6d5-0c5c-4717-df75-8b837b56dd7d"
      },
      "execution_count": 3,
      "outputs": [
        {
          "output_type": "stream",
          "name": "stdout",
          "text": [
            "File Content:\n",
            " Welcome to the File Handling Lab!\n",
            "This is the first line of text.\n"
          ]
        }
      ]
    },
    {
      "cell_type": "markdown",
      "source": [
        "Activity 3: Append Data to an Existing File"
      ],
      "metadata": {
        "id": "Lx7odaLifxwS"
      }
    },
    {
      "cell_type": "code",
      "source": [
        "# Solution\n",
        "file = open(\"notes.txt\", \"a\") # 'a' mode appends\n",
        "file.write(\"\\nThis line was appended later.\")\n",
        "file.close()"
      ],
      "metadata": {
        "id": "_wmB0vclaKSX"
      },
      "execution_count": 4,
      "outputs": []
    },
    {
      "cell_type": "markdown",
      "source": [
        "Activity 4: Read File Line by Line"
      ],
      "metadata": {
        "id": "0K0dkxq1f0Jw"
      }
    },
    {
      "cell_type": "code",
      "source": [
        "# Solution\n",
        "with open(\"notes.txt\", \"r\") as file:\n",
        "    for line in file:\n",
        "        print(line.strip())"
      ],
      "metadata": {
        "colab": {
          "base_uri": "https://localhost:8080/"
        },
        "id": "2YpJFL30aY8V",
        "outputId": "259362b9-d03e-4599-bd63-a5e9452ef40d"
      },
      "execution_count": 6,
      "outputs": [
        {
          "output_type": "stream",
          "name": "stdout",
          "text": [
            "Welcome to the File Handling Lab!\n",
            "This is the first line of text.\n",
            "This line was appended later.\n"
          ]
        }
      ]
    },
    {
      "cell_type": "markdown",
      "source": [
        "Activity 5: Exception Handling for Missing Files"
      ],
      "metadata": {
        "id": "HmjFmxi3f2Xg"
      }
    },
    {
      "cell_type": "code",
      "source": [
        "# Solution\n",
        "try:\n",
        "    with open(\"nofile.txt\", \"r\") as f:\n",
        "        print(f.read())\n",
        "except FileNotFoundError:\n",
        "    print(\"Error: The file does not exist!\")"
      ],
      "metadata": {
        "colab": {
          "base_uri": "https://localhost:8080/"
        },
        "id": "rtxVoE56ajsL",
        "outputId": "83ba7141-85df-46c5-a2be-fe35ae1587d9"
      },
      "execution_count": 8,
      "outputs": [
        {
          "output_type": "stream",
          "name": "stdout",
          "text": [
            "Error: The file does not exist!\n"
          ]
        }
      ]
    },
    {
      "cell_type": "markdown",
      "source": [
        "Activity 6: Handling Multiple Exceptions"
      ],
      "metadata": {
        "id": "dL3gxwKxf4pZ"
      }
    },
    {
      "cell_type": "code",
      "source": [
        "# Solution\n",
        "try:\n",
        "    number = int(input(\"Enter a number: \"))\n",
        "    result = 10 / number\n",
        "    print(\"Result:\", result)\n",
        "except ValueError:\n",
        "    print(\"Invalid input! Please enter a number.\")\n",
        "except ZeroDivisionError:\n",
        "    print(\"Division by zero is not allowed.\")\n",
        "finally:\n",
        "    print(\"Operation Completed.\")"
      ],
      "metadata": {
        "colab": {
          "base_uri": "https://localhost:8080/"
        },
        "id": "8ZYxhANlaq1D",
        "outputId": "34220b71-74f1-4d96-9d7e-6ca9caf1e6ef"
      },
      "execution_count": 33,
      "outputs": [
        {
          "output_type": "stream",
          "name": "stdout",
          "text": [
            "Enter a number: ali\n",
            "Invalid input! Please enter a number.\n",
            "Operation Completed.\n"
          ]
        }
      ]
    },
    {
      "cell_type": "markdown",
      "source": [
        "Activity 7: File Statistics (Line, Word & Character Count)"
      ],
      "metadata": {
        "id": "oRMCViief7ht"
      }
    },
    {
      "cell_type": "code",
      "source": [
        "def file_stats(filename):\n",
        "    try:\n",
        "        with open(filename, \"r\", encoding=\"utf-8\") as f:\n",
        "            text = f.read()\n",
        "            lines = text.splitlines()\n",
        "            words = text.split()\n",
        "            print(f\"Lines: {len(lines)}, Words: {len(words)}, Characters: {len(text)}\")\n",
        "    except FileNotFoundError:\n",
        "        print(\"Error: File not found.\")\n",
        "\n",
        "file_stats(\"notes.txt\")"
      ],
      "metadata": {
        "colab": {
          "base_uri": "https://localhost:8080/"
        },
        "id": "t2RRYf1Ca8CE",
        "outputId": "98e5a4a3-ea84-42a3-8c12-a2079e111bf2"
      },
      "execution_count": 14,
      "outputs": [
        {
          "output_type": "stream",
          "name": "stdout",
          "text": [
            "Lines: 3, Words: 18, Characters: 95\n"
          ]
        }
      ]
    },
    {
      "cell_type": "markdown",
      "source": [
        "Activity 8: Merge Multiple Files into One"
      ],
      "metadata": {
        "id": "Ywf1-XAsf-fP"
      }
    },
    {
      "cell_type": "code",
      "source": [
        "import os, glob\n",
        "def merge_text_files(folder, output_file):\n",
        "    with open(output_file, \"w\", encoding=\"utf-8\") as outfile:\n",
        "        for txt_file in glob.glob(os.path.join(folder, \"*.txt\")):\n",
        "            try:\n",
        "                with open(txt_file, \"r\", encoding=\"utf-8\") as infile:\n",
        "                    outfile.write(infile.read() + \"\\n\")\n",
        "            except Exception as e:\n",
        "                print(f\"Skipped {txt_file}: {e}\")\n",
        "\n",
        "merge_text_files(\"myfolder\", \"merged_output.txt\")"
      ],
      "metadata": {
        "id": "127Y8bCZbPzQ"
      },
      "execution_count": 16,
      "outputs": []
    },
    {
      "cell_type": "markdown",
      "source": [
        "Activity 9: CSV Reader and Analyzer"
      ],
      "metadata": {
        "id": "IFaZDo87gBdB"
      }
    },
    {
      "cell_type": "code",
      "source": [
        "import csv\n",
        "def analyze_csv(file):\n",
        "    try:\n",
        "        with open(file, newline='', encoding=\"utf-8\") as f:\n",
        "            reader = csv.DictReader(f)\n",
        "            totals, counts = {}, {}\n",
        "            for row in reader:\n",
        "                for subject, mark in row.items():\n",
        "                    if subject != 'Name':\n",
        "                        try:\n",
        "                            mark = float(mark)\n",
        "                            totals[subject] = totals.get(subject, 0) + mark\n",
        "                            counts[subject] = counts.get(subject, 0) + 1\n",
        "                        except ValueError:\n",
        "                            print(f\"Invalid mark in row: {row}\")\n",
        "            for subject in totals:\n",
        "                print(f\"{subject}: {totals[subject]/counts[subject]:.2f}\")\n",
        "\n",
        "    except FileNotFoundError:\n",
        "        print(\"CSV file not found.\")\n",
        "analyze_csv(\"marks.csv\")"
      ],
      "metadata": {
        "colab": {
          "base_uri": "https://localhost:8080/"
        },
        "id": "NUsr1sMTbm4u",
        "outputId": "c2222864-cfa2-46b5-b63a-5ab6e46cca5f"
      },
      "execution_count": 20,
      "outputs": [
        {
          "output_type": "stream",
          "name": "stdout",
          "text": [
            "Invalid mark in row: {'Name': 'Bob', 'Math': '78', 'Science': 'abc', 'English': '83', 'History': '76'}\n",
            "Invalid mark in row: {'Name': 'Ethan', 'Math': '90', 'Science': '85', 'English': 'xyz', 'History': '88'}\n",
            "Math: 87.20\n",
            "Science: 89.75\n",
            "English: 87.25\n",
            "History: nan\n"
          ]
        }
      ]
    },
    {
      "cell_type": "markdown",
      "source": [
        "Activity 10: JSON Config Loader with Fallback"
      ],
      "metadata": {
        "id": "XUGhk_2egEvK"
      }
    },
    {
      "cell_type": "code",
      "source": [
        "import json\n",
        "def load_config(path):\n",
        "    default_config = {\"theme\": \"light\", \"autosave\": True, \"interval\": 5}\n",
        "    try:\n",
        "        with open(path, \"r\", encoding=\"utf-8\") as f:\n",
        "            return json.load(f)\n",
        "    except (FileNotFoundError, json.JSONDecodeError) as e:\n",
        "        print(f\"Config error ({e}), using defaults.\")\n",
        "        return default_config\n",
        "config = load_config(\"config.json\")\n",
        "print(\"Configuration Loaded:\", config)"
      ],
      "metadata": {
        "colab": {
          "base_uri": "https://localhost:8080/"
        },
        "id": "tenn0VnqdXyo",
        "outputId": "1c62ed99-9d24-4a13-c3fb-cabbc5f7b401"
      },
      "execution_count": 22,
      "outputs": [
        {
          "output_type": "stream",
          "name": "stdout",
          "text": [
            "Configuration Loaded: {'theme': 'dark', 'autosave': False, 'interval': 10, 'language': 'en', 'notifications': True}\n"
          ]
        }
      ]
    },
    {
      "cell_type": "markdown",
      "source": [
        "Activity 11: Transaction Logger with Exception Logging"
      ],
      "metadata": {
        "id": "HrOTMfZPgH50"
      }
    },
    {
      "cell_type": "code",
      "source": [
        "import logging\n",
        "logging.basicConfig(filename=\"transactions.log\", level=logging.INFO,\n",
        "format=\"%(asctime)s - %(levelname)s - %(message)s\")\n",
        "def transfer(amount, balance):\n",
        "    try:\n",
        "        if amount <= 0:\n",
        "            raise ValueError(\"Amount must be positive.\")\n",
        "        if amount > balance:\n",
        "            raise ValueError(\"Insufficient funds.\")\n",
        "        balance -= amount\n",
        "        logging.info(f\"Transferred {amount}, Remaining balance: {balance}\")\n",
        "        return balance\n",
        "    except ValueError as e:\n",
        "        logging.error(f\"Transaction failed: {e}\")\n",
        "        print(\"Transaction Error:\", e)\n",
        "        return balance\n",
        "balance = 500\n",
        "balance = transfer(200, balance)\n",
        "balance = transfer(1000, balance)"
      ],
      "metadata": {
        "colab": {
          "base_uri": "https://localhost:8080/"
        },
        "id": "pdg6QpcWdjHt",
        "outputId": "6527c365-9f0f-45b1-ac58-f1c3a2e7f95f"
      },
      "execution_count": 24,
      "outputs": [
        {
          "output_type": "stream",
          "name": "stderr",
          "text": [
            "ERROR:root:Transaction failed: Insufficient funds.\n"
          ]
        },
        {
          "output_type": "stream",
          "name": "stdout",
          "text": [
            "Transaction Error: Insufficient funds.\n"
          ]
        }
      ]
    },
    {
      "cell_type": "markdown",
      "source": [
        "1. Copy File Content"
      ],
      "metadata": {
        "id": "QMictfKqgLlL"
      }
    },
    {
      "cell_type": "code",
      "source": [
        "with open(\"source.txt\", \"w\") as f:\n",
        "    f.write(\"Hello, this is the content of source.txt\\nThis will be copied to backup.txt.\")\n",
        "\n",
        "with open(\"source.txt\", \"r\") as src:\n",
        "    content = src.read()\n",
        "\n",
        "with open(\"backup.txt\", \"w\") as dest:\n",
        "    dest.write(content)\n",
        "\n",
        "with open(\"backup.txt\", \"r\") as f:\n",
        "    print(\"Content of backup.txt:\\n\")\n",
        "    print(f.read())\n"
      ],
      "metadata": {
        "colab": {
          "base_uri": "https://localhost:8080/"
        },
        "id": "a95NRaUvd_AM",
        "outputId": "88bd0978-7c76-45d8-ceae-756b0735ef8c"
      },
      "execution_count": 26,
      "outputs": [
        {
          "output_type": "stream",
          "name": "stdout",
          "text": [
            "Content of backup.txt:\n",
            "\n",
            "Hello, this is the content of source.txt\n",
            "This will be copied to backup.txt.\n"
          ]
        }
      ]
    },
    {
      "cell_type": "markdown",
      "source": [
        "2. Count Words in a File"
      ],
      "metadata": {
        "id": "waolhLiqgO5I"
      }
    },
    {
      "cell_type": "code",
      "source": [
        "with open(\"sample.txt\", \"w\") as f:\n",
        "    f.write(\"This is a simple file. It contains some words to count.\")\n",
        "\n",
        "with open(\"sample.txt\", \"r\") as f:\n",
        "    content = f.read()\n",
        "\n",
        "words = content.split()\n",
        "print(\"Number of words in file:\", len(words))\n"
      ],
      "metadata": {
        "colab": {
          "base_uri": "https://localhost:8080/"
        },
        "id": "OHJ6xxhFeYfu",
        "outputId": "bbd9050c-6cf6-440a-f1a6-af25ba28dfd7"
      },
      "execution_count": 27,
      "outputs": [
        {
          "output_type": "stream",
          "name": "stdout",
          "text": [
            "Number of words in file: 11\n"
          ]
        }
      ]
    },
    {
      "cell_type": "markdown",
      "source": [
        "3. Student Marks"
      ],
      "metadata": {
        "id": "tv2Y7iF_gQ-8"
      }
    },
    {
      "cell_type": "code",
      "source": [
        "filename = input(\"Enter file name: \")\n",
        "\n",
        "try:\n",
        "    with open(filename, \"r\") as f:\n",
        "        print(f.read())\n",
        "except FileNotFoundError:\n",
        "    with open(filename, \"w\") as f:\n",
        "        f.write(\"No marks recorded\")\n",
        "    print(\"File not found. Created\", filename, \"with default message.\")\n"
      ],
      "metadata": {
        "colab": {
          "base_uri": "https://localhost:8080/"
        },
        "id": "WYbPv-FrekcK",
        "outputId": "bd73c592-10ae-4966-d1df-ed6574f6f417"
      },
      "execution_count": 29,
      "outputs": [
        {
          "output_type": "stream",
          "name": "stdout",
          "text": [
            "Enter file name: marks.csv\n",
            "Name,Math,Science,English,History\n",
            "Alice,85,92,88,90\n",
            "Bob,78,abc,83,76\n",
            "Charlie,95,89,91,NaN\n",
            "Diana,88,93,87,82\n",
            "Ethan,90,85,xyz,88\n"
          ]
        }
      ]
    },
    {
      "cell_type": "markdown",
      "source": [
        "4. Safe Division Logger"
      ],
      "metadata": {
        "id": "09CxGDmrgU48"
      }
    },
    {
      "cell_type": "code",
      "source": [
        "try:\n",
        "    a = float(input(\"Enter first number: \"))\n",
        "    b = float(input(\"Enter second number: \"))\n",
        "    result = a / b\n",
        "except ValueError:\n",
        "    result = \"Invalid input. Please enter numeric values.\"\n",
        "except ZeroDivisionError:\n",
        "    result = \"Error: Division by zero is not allowed.\"\n",
        "\n",
        "with open(\"division_log.txt\", \"w\") as f:\n",
        "    f.write(str(result))\n",
        "\n",
        "print(\"Result logged to division_log.txt\")\n"
      ],
      "metadata": {
        "colab": {
          "base_uri": "https://localhost:8080/"
        },
        "id": "JsQ1OUNKe22e",
        "outputId": "15fcd6d5-514b-4059-bcec-e658b3f142e3"
      },
      "execution_count": 34,
      "outputs": [
        {
          "output_type": "stream",
          "name": "stdout",
          "text": [
            "Enter first number: 12\n",
            "Enter second number: 4\n",
            "Result logged to division_log.txt\n"
          ]
        }
      ]
    },
    {
      "cell_type": "markdown",
      "source": [
        "5. Error Email Logger (Conceptual):"
      ],
      "metadata": {
        "id": "wOpnxHMwgY0d"
      }
    },
    {
      "cell_type": "code",
      "source": [
        "def log_error(error_message):\n",
        "    with open(\"error_log.txt\", \"a\") as f:\n",
        "        f.write(error_message + \"\\n\")\n",
        "    print(\"Mock Email Alert: An error occurred ->\", error_message)\n",
        "\n",
        "try:\n",
        "    x = int(input(\"Enter a number: \"))\n",
        "    y = int(input(\"Enter another number: \"))\n",
        "    print(\"Result:\", x / y)\n",
        "except Exception as e:\n",
        "    log_error(str(e))\n"
      ],
      "metadata": {
        "colab": {
          "base_uri": "https://localhost:8080/"
        },
        "id": "Koff8pT0fcJy",
        "outputId": "cd8648f7-6317-43f5-a3d5-cf1706b13cd9"
      },
      "execution_count": 35,
      "outputs": [
        {
          "output_type": "stream",
          "name": "stdout",
          "text": [
            "Enter a number: hello\n",
            "Mock Email Alert: An error occurred -> invalid literal for int() with base 10: 'hello'\n"
          ]
        }
      ]
    }
  ]
}