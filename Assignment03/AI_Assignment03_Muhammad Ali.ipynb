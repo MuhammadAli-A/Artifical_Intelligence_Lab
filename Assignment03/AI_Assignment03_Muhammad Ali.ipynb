{
  "nbformat": 4,
  "nbformat_minor": 0,
  "metadata": {
    "colab": {
      "provenance": []
    },
    "kernelspec": {
      "name": "python3",
      "display_name": "Python 3"
    },
    "language_info": {
      "name": "python"
    }
  },
  "cells": [
    {
      "cell_type": "markdown",
      "source": [
        "1. Copy File Content"
      ],
      "metadata": {
        "id": "QMictfKqgLlL"
      }
    },
    {
      "cell_type": "code",
      "source": [
        "with open(\"source.txt\", \"w\") as f:\n",
        "    f.write(\"Hello, this is the content of source.txt\\nThis will be copied to backup.txt.\")\n",
        "\n",
        "with open(\"source.txt\", \"r\") as src:\n",
        "    content = src.read()\n",
        "\n",
        "with open(\"backup.txt\", \"w\") as dest:\n",
        "    dest.write(content)\n",
        "\n",
        "with open(\"backup.txt\", \"r\") as f:\n",
        "    print(\"Content of backup.txt:\\n\")\n",
        "    print(f.read())\n"
      ],
      "metadata": {
        "colab": {
          "base_uri": "https://localhost:8080/"
        },
        "id": "a95NRaUvd_AM",
        "outputId": "88bd0978-7c76-45d8-ceae-756b0735ef8c"
      },
      "execution_count": null,
      "outputs": [
        {
          "output_type": "stream",
          "name": "stdout",
          "text": [
            "Content of backup.txt:\n",
            "\n",
            "Hello, this is the content of source.txt\n",
            "This will be copied to backup.txt.\n"
          ]
        }
      ]
    },
    {
      "cell_type": "markdown",
      "source": [
        "2. Count Words in a File"
      ],
      "metadata": {
        "id": "waolhLiqgO5I"
      }
    },
    {
      "cell_type": "code",
      "source": [
        "with open(\"sample.txt\", \"w\") as f:\n",
        "    f.write(\"This is a simple file. It contains some words to count.\")\n",
        "\n",
        "with open(\"sample.txt\", \"r\") as f:\n",
        "    content = f.read()\n",
        "\n",
        "words = content.split()\n",
        "print(\"Number of words in file:\", len(words))\n"
      ],
      "metadata": {
        "colab": {
          "base_uri": "https://localhost:8080/"
        },
        "id": "OHJ6xxhFeYfu",
        "outputId": "bbd9050c-6cf6-440a-f1a6-af25ba28dfd7"
      },
      "execution_count": null,
      "outputs": [
        {
          "output_type": "stream",
          "name": "stdout",
          "text": [
            "Number of words in file: 11\n"
          ]
        }
      ]
    },
    {
      "cell_type": "markdown",
      "source": [
        "3. Student Marks"
      ],
      "metadata": {
        "id": "tv2Y7iF_gQ-8"
      }
    },
    {
      "cell_type": "code",
      "source": [
        "filename = input(\"Enter file name: \")\n",
        "\n",
        "try:\n",
        "    with open(filename, \"r\") as f:\n",
        "        print(f.read())\n",
        "except FileNotFoundError:\n",
        "    with open(filename, \"w\") as f:\n",
        "        f.write(\"No marks recorded\")\n",
        "    print(\"File not found. Created\", filename, \"with default message.\")\n"
      ],
      "metadata": {
        "colab": {
          "base_uri": "https://localhost:8080/"
        },
        "id": "WYbPv-FrekcK",
        "outputId": "bd73c592-10ae-4966-d1df-ed6574f6f417"
      },
      "execution_count": null,
      "outputs": [
        {
          "output_type": "stream",
          "name": "stdout",
          "text": [
            "Enter file name: marks.csv\n",
            "Name,Math,Science,English,History\n",
            "Alice,85,92,88,90\n",
            "Bob,78,abc,83,76\n",
            "Charlie,95,89,91,NaN\n",
            "Diana,88,93,87,82\n",
            "Ethan,90,85,xyz,88\n"
          ]
        }
      ]
    },
    {
      "cell_type": "markdown",
      "source": [
        "4. Safe Division Logger"
      ],
      "metadata": {
        "id": "09CxGDmrgU48"
      }
    },
    {
      "cell_type": "code",
      "source": [
        "try:\n",
        "    a = float(input(\"Enter first number: \"))\n",
        "    b = float(input(\"Enter second number: \"))\n",
        "    result = a / b\n",
        "except ValueError:\n",
        "    result = \"Invalid input. Please enter numeric values.\"\n",
        "except ZeroDivisionError:\n",
        "    result = \"Error: Division by zero is not allowed.\"\n",
        "\n",
        "with open(\"division_log.txt\", \"w\") as f:\n",
        "    f.write(str(result))\n",
        "\n",
        "print(\"Result logged to division_log.txt\")\n"
      ],
      "metadata": {
        "colab": {
          "base_uri": "https://localhost:8080/"
        },
        "id": "JsQ1OUNKe22e",
        "outputId": "f4db4fc7-9a5a-4e50-cd4e-59a1a491bda5"
      },
      "execution_count": null,
      "outputs": [
        {
          "output_type": "stream",
          "name": "stdout",
          "text": [
            "Enter first number: 166\n",
            "Enter second number: 8\n",
            "Result logged to division_log.txt\n"
          ]
        }
      ]
    },
    {
      "cell_type": "markdown",
      "source": [
        "5. Error Email Logger (Conceptual):"
      ],
      "metadata": {
        "id": "wOpnxHMwgY0d"
      }
    },
    {
      "cell_type": "code",
      "source": [
        "def log_error(error_message):\n",
        "    with open(\"error_log.txt\", \"a\") as f:\n",
        "        f.write(error_message + \"\\n\")\n",
        "    print(\"Mock Email Alert: An error occurred ->\", error_message)\n",
        "\n",
        "try:\n",
        "    x = int(input(\"Enter a number: \"))\n",
        "    y = int(input(\"Enter another number: \"))\n",
        "    print(\"Result:\", x / y)\n",
        "except Exception as e:\n",
        "    log_error(str(e))\n"
      ],
      "metadata": {
        "colab": {
          "base_uri": "https://localhost:8080/"
        },
        "id": "Koff8pT0fcJy",
        "outputId": "9c579756-a55b-466d-ecff-2c39c9a06e2c"
      },
      "execution_count": null,
      "outputs": [
        {
          "output_type": "stream",
          "name": "stdout",
          "text": [
            "Enter a number: 10\n",
            "Enter another number: 0\n",
            "Mock Email Alert: An error occurred -> division by zero\n"
          ]
        }
      ]
    }
  ]
}